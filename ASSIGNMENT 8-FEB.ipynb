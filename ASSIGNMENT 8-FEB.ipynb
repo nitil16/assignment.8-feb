{
 "cells": [
  {
   "cell_type": "markdown",
   "id": "2d4d864e-7f07-4c5d-8af0-49e7924dbbef",
   "metadata": {},
   "source": [
    "                                          ASSIGNMENT 8-FEB"
   ]
  },
  {
   "cell_type": "markdown",
   "id": "56c3657d-58d9-4427-aff6-d7fbc68b55b4",
   "metadata": {},
   "source": [
    "QUESTION.1"
   ]
  },
  {
   "cell_type": "markdown",
   "id": "f8f828e1-8dba-4bc9-8115-e7af098e8165",
   "metadata": {},
   "source": [
    "Q1. What is Abstraction in OOps? Explain with an example."
   ]
  },
  {
   "cell_type": "markdown",
   "id": "36c80765-41fe-4f11-9a36-c9ffa4aff67f",
   "metadata": {},
   "source": [
    "Abstraction in Object-Oriented Programming (OOP) refers to the ability to represent complex real-world objects or concepts as simplified models in software code. \n",
    "Abstraction is achieved by focusing on the essential features of an object or concept and ignoring the irrelevant details.\n",
    "\n",
    "In Python, abstraction can be achieved using abstract classes and interfaces. \n",
    "An abstract class is a class that cannot be instantiated and is intended to be subclassed. \n",
    "It can contain one or more abstract methods, which are methods that do not have an implementation in the abstract class and must be implemented by the subclass. \n",
    "An interface is similar to an abstract class, but it only contains abstract methods and does not have any implementation.\n",
    "\n",
    "Below is the example of abstraction in Python using an abstract class."
   ]
  },
  {
   "cell_type": "code",
   "execution_count": 10,
   "id": "16f069ef-301d-4706-914c-056b3bb010ea",
   "metadata": {},
   "outputs": [],
   "source": [
    "# Code Line goes here \n",
    "\n",
    "from abc import ABC, abstractmethod\n",
    "\n",
    "class Vehicle(ABC):\n",
    "    @abstractmethod\n",
    "    def start(self):\n",
    "        pass\n",
    "    \n",
    "    @abstractmethod\n",
    "    def stop(self):\n",
    "        pass\n",
    "    \n",
    "    @abstractmethod\n",
    "    def accelerate(self):\n",
    "        pass\n",
    "\n",
    "class Car(Vehicle):\n",
    "    def start(self):\n",
    "        print(\"Starting car\")\n",
    "        \n",
    "    def stop(self):\n",
    "        print(\"Stopping car\")\n",
    "        \n",
    "    def accelerate(self):\n",
    "        print(\"Accelerating car\")\n",
    "\n",
    "class Boat(Vehicle):\n",
    "    def start(self):\n",
    "        print(\"Starting boat\")\n",
    "        \n",
    "    def stop(self):\n",
    "        print(\"Stopping boat\")\n",
    "        \n",
    "    def accelerate(self):\n",
    "        print(\"Accelerating boat\")"
   ]
  },
  {
   "cell_type": "markdown",
   "id": "1f57568e-55bb-4f02-9438-be1903fe15de",
   "metadata": {},
   "source": [
    "QUESTION.2 "
   ]
  },
  {
   "cell_type": "markdown",
   "id": "db266e92-621b-4c8f-84f8-21d3bd73e5e4",
   "metadata": {},
   "source": [
    "Q2. Differentiate between Abstraction and Encapsulation. Explain with an example."
   ]
  },
  {
   "cell_type": "markdown",
   "id": "64684b56-213c-45fb-b6f1-e9924a370024",
   "metadata": {},
   "source": [
    "Ans. Abstraction and Encapsulation are two important concepts in Object-Oriented Programming (OOP) in Python. \n",
    "They are often confused with each other, but they are different concepts that serve different purposes.\n",
    "\n",
    "Abstraction refers to the process of hiding complex details and showing only essential information. \n",
    "It is achieved by creating abstract classes or interfaces that define a set of methods or properties that must be implemented by any class that inherits from them. \n",
    "Abstraction is about focusing on the essential features of an object or concept while ignoring the irrelevant details.\n",
    "\n",
    "Encapsulation, on the other hand, refers to the process of wrapping data and methods into a single unit. \n",
    "It is achieved by creating classes that have private data members and public methods. \n",
    "Encapsulation is about protecting the data and methods of a class from external access and interference.\n",
    "\n",
    "Below is the example that demonstrates both Abstraction and Encapsulation in Python:\n"
   ]
  },
  {
   "cell_type": "code",
   "execution_count": 12,
   "id": "6e248d04-d143-44dc-8dab-371bb749f53a",
   "metadata": {},
   "outputs": [
    {
     "name": "stdout",
     "output_type": "stream",
     "text": [
      "Total area : 185.04000000000002\n",
      "\n",
      "Total perimeter : 73.68\n"
     ]
    }
   ],
   "source": [
    "# Code line goes here\n",
    "\n",
    "from abc import ABC, abstractmethod\n",
    "\n",
    "class Shape(ABC):\n",
    "    @abstractmethod\n",
    "    def area(self):\n",
    "        pass\n",
    "    \n",
    "    @abstractmethod\n",
    "    def perimeter(self):\n",
    "        pass\n",
    "\n",
    "class Rectangle(Shape):\n",
    "    \n",
    "    def __init__(self, length, width):\n",
    "        self._length = length\n",
    "        self._width = width\n",
    "    \n",
    "    def area(self):\n",
    "        return self._length * self._width\n",
    "    \n",
    "    def perimeter(self):\n",
    "        return 2 * (self._length + self._width)\n",
    "\n",
    "class Circle(Shape):\n",
    "    \n",
    "    def __init__(self, radius):\n",
    "        self._radius = radius\n",
    "    \n",
    "    def area(self):\n",
    "        return 3.14 * self._radius ** 2\n",
    "    \n",
    "    def perimeter(self):\n",
    "        return 2 * 3.14 * self._radius\n",
    "\n",
    "class Calculator:\n",
    "    \n",
    "    def __init__(self):\n",
    "        self._shapes = []\n",
    "    \n",
    "    def add_shape(self, shape):\n",
    "        \n",
    "        if isinstance(shape, Shape):\n",
    "            self._shapes.append(shape)\n",
    "    \n",
    "    def total_area(self):\n",
    "        return sum([shape.area() for shape in self._shapes])\n",
    "    \n",
    "    def total_perimeter(self):\n",
    "        return sum([shape.perimeter() for shape in self._shapes])\n",
    "\n",
    "rect = Rectangle(12, 6)\n",
    "circle = Circle(6)\n",
    "\n",
    "calc = Calculator()\n",
    "calc.add_shape(rect)\n",
    "calc.add_shape(circle)\n",
    "\n",
    "print(\"Total area :\", calc.total_area())\n",
    "print()\n",
    "print(\"Total perimeter :\", calc.total_perimeter())"
   ]
  },
  {
   "cell_type": "markdown",
   "id": "2a52cd97-658e-406b-a692-ca2e44c47860",
   "metadata": {},
   "source": [
    "QUESTION.3 "
   ]
  },
  {
   "cell_type": "markdown",
   "id": "cdec32d7-ea2d-46c6-b96a-4e98c5748428",
   "metadata": {},
   "source": [
    "Q3. What is abc module in python? Why is it used?"
   ]
  },
  {
   "cell_type": "markdown",
   "id": "da47c59d-762d-4cf2-87c9-20dde6eb70ea",
   "metadata": {},
   "source": [
    "Ans. The abc module in Python stands for Abstract Base Classes. It provides a way to define abstract classes in Python, which are classes that cannot be instantiated directly, but can only be subclassed. Abstract classes define methods that subclasses must implement, which ensures that the subclasses have a consistent interface.\n",
    "\n",
    "The abc module provides the ABC class that can be used as a base class for defining abstract classes. Abstract methods are defined using the @abstractmethod decorator, which indicates that the method must be implemented by any subclass.\n",
    "\n",
    "Below is the example of how the abc module can be used:"
   ]
  },
  {
   "cell_type": "code",
   "execution_count": 13,
   "id": "44b55432-94ec-4809-a6c9-7610e86508fc",
   "metadata": {},
   "outputs": [
    {
     "name": "stdout",
     "output_type": "stream",
     "text": [
      "Area of Rectangle : 50\n",
      "Perimeter of Rectangle : 30\n",
      "\n",
      "Area of Circle : 113.04\n",
      "Perimeter of Circle : 37.68\n"
     ]
    }
   ],
   "source": [
    "# Code line goes here :\n",
    "\n",
    "from abc import ABC, abstractmethod\n",
    "\n",
    "class Shape(ABC):\n",
    "    @abstractmethod\n",
    "    def area(self):\n",
    "        pass\n",
    "    \n",
    "    @abstractmethod\n",
    "    def perimeter(self):\n",
    "        pass\n",
    "\n",
    "class Rectangle(Shape):\n",
    "    \n",
    "    def __init__(self, length, width):\n",
    "        self._length = length\n",
    "        self._width = width\n",
    "    \n",
    "    def area(self):\n",
    "        return self._length * self._width\n",
    "    \n",
    "    def perimeter(self):\n",
    "        return 2 * (self._length + self._width)\n",
    "\n",
    "class Circle(Shape):\n",
    "    \n",
    "    def __init__(self, radius):\n",
    "        self._radius = radius\n",
    "    \n",
    "    def area(self):\n",
    "        return 3.14 * self._radius ** 2\n",
    "    \n",
    "    def perimeter(self):\n",
    "        return 2 * 3.14 * self._radius\n",
    "\n",
    "rect = Rectangle(5, 10)\n",
    "circle = Circle(6)\n",
    "\n",
    "print(\"Area of Rectangle :\", rect.area())\n",
    "print(\"Perimeter of Rectangle :\", rect.perimeter())\n",
    "print()\n",
    "print(\"Area of Circle :\", circle.area())\n",
    "print(\"Perimeter of Circle :\", circle.perimeter())"
   ]
  },
  {
   "cell_type": "markdown",
   "id": "aae14f9b-82bf-44cf-a91b-12fc0c9498f8",
   "metadata": {},
   "source": [
    "\n",
    "QUESTION.4 "
   ]
  },
  {
   "cell_type": "markdown",
   "id": "50ad99ef-72bb-49f5-b4fb-5fe18e65a2a5",
   "metadata": {},
   "source": [
    "Q4. How can we achieve data abstraction?"
   ]
  },
  {
   "cell_type": "markdown",
   "id": "2cebe683-8f9c-4963-88be-4dc869547eb9",
   "metadata": {},
   "source": [
    "Ans. In Python, data abstraction can be achieved through various methods such as:\n",
    "\n",
    "1. Abstract Class\n",
    "2. Encapsulation\n",
    "3. Interfaces\n",
    "\n",
    "1. Abstract Class : Abstract class can be defined using the ABC base class and the abstractmethod decorator. \n",
    "An abstract class defines a set of abstract methods that must be implemented by any concrete class that inherits from it. \n",
    "Abstract classes provide a high-level interface to the data, hiding the implementation details from the user.\n",
    "\n",
    "2. Encapsulation: Encapsulation is a technique that allows data to be hidden from the user by encapsulating it within objects. \n",
    "In Python, this can be achieved by defining classes that encapsulate data and provide methods for accessing and manipulating that data. \n",
    "By encapsulating the data within the object, the implementation details are hidden from the user, providing a high-level view of the data. \n",
    "\n",
    "3. Interfaces: An interface is a set of methods that define the behavior of an object without specifying the implementation details. \n",
    "In Python, interfaces can be defined using abstract classes or simply by defining a set of methods that must be implemented by any object that implements the interface. \n",
    "By defining interfaces, we can provide a high-level view of the data, hiding the implementation details from the user."
   ]
  },
  {
   "cell_type": "code",
   "execution_count": 14,
   "id": "0cc848c8-1f6e-491d-aeeb-1379af6f7c9c",
   "metadata": {},
   "outputs": [],
   "source": [
    "# Example of Abstract Class :\n",
    " \n",
    "from abc import ABC, abstractmethod\n",
    "\n",
    "class Vehicle(ABC):\n",
    "    \n",
    "    @abstractmethod\n",
    "    def start(self):\n",
    "        pass\n",
    "    \n",
    "    @abstractmethod\n",
    "    def stop(self):\n",
    "        pass\n",
    "\n",
    "class Car(Vehicle):\n",
    "    \n",
    "    def start(self):\n",
    "        print(\"Starting Car\")\n",
    "    \n",
    "    def stop(self):\n",
    "        print(\"Stopping Car\")"
   ]
  },
  {
   "cell_type": "code",
   "execution_count": 15,
   "id": "71deac39-ca32-47ca-a376-5e1ed2c35e18",
   "metadata": {},
   "outputs": [
    {
     "name": "stdout",
     "output_type": "stream",
     "text": [
      "Employee name : John\n",
      "Employee salary : 5000\n",
      "\n"
     ]
    }
   ],
   "source": [
    "# Example of Encapsulation :\n",
    "\n",
    "class Employee:\n",
    "    \n",
    "    def __init__(self, name, salary):\n",
    "        self._name = name\n",
    "        self._salary = salary\n",
    "    \n",
    "    def get_name(self):\n",
    "        return self._name\n",
    "    \n",
    "    def get_salary(self):\n",
    "        return self._salary\n",
    "\n",
    "employee = Employee(\"John\", 5000)\n",
    "\n",
    "print(\"Employee name :\", employee.get_name())\n",
    "print(\"Employee salary :\", employee.get_salary())\n",
    "print()"
   ]
  },
  {
   "cell_type": "markdown",
   "id": "d3d11282-249d-4824-b1d3-4cc1ad1a6821",
   "metadata": {},
   "source": [
    "QUESTION.5 "
   ]
  },
  {
   "cell_type": "markdown",
   "id": "d2f15a4b-17a2-4440-aa17-f1764f4cca3e",
   "metadata": {},
   "source": [
    "Q5. Can we create an instance of an abstract class? Explain your answer."
   ]
  },
  {
   "cell_type": "code",
   "execution_count": null,
   "id": "53e0caba-562e-4589-b906-3bb4c7b70560",
   "metadata": {},
   "outputs": [],
   "source": []
  }
 ],
 "metadata": {
  "kernelspec": {
   "display_name": "Python 3 (ipykernel)",
   "language": "python",
   "name": "python3"
  },
  "language_info": {
   "codemirror_mode": {
    "name": "ipython",
    "version": 3
   },
   "file_extension": ".py",
   "mimetype": "text/x-python",
   "name": "python",
   "nbconvert_exporter": "python",
   "pygments_lexer": "ipython3",
   "version": "3.10.8"
  }
 },
 "nbformat": 4,
 "nbformat_minor": 5
}
